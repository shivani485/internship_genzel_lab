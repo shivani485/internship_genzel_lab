{
 "cells": [
  {
   "cell_type": "code",
   "execution_count": 12,
   "id": "9e4d6991",
   "metadata": {},
   "outputs": [],
   "source": [
    "import scipy\n",
    "from scipy.io import loadmat\n",
    "import numpy as np\n",
    "import matplotlib.pyplot as plt\n",
    "import glob\n",
    "import os\n",
    "from spectral_connectivity import Multitaper\n",
    "from spectral_connectivity import Connectivity\n",
    "from spectral_connectivity import multitaper_connectivity\n",
    "from pathlib import Path\n",
    "from scipy import signal"
   ]
  },
  {
   "cell_type": "code",
   "execution_count": 13,
   "id": "0d264cfd",
   "metadata": {},
   "outputs": [],
   "source": [
    "pathsHPC = [path for path in Path('C:/Users/LENOVO/Desktop/sem7/internship/HomeCageHC').resolve().glob(\"**/*HPC*.mat\")] # works (all full paths to HPC files)\n",
    "pathsPFC = [path for path in Path('C:/Users/LENOVO/Desktop/sem7/internship/HomeCageHC').resolve().glob(\"**/*PFC*.mat\")] # works (all full paths to PFC files)\n",
    "\n",
    "frequency_of_interest = list(range(10,30))\n",
    "sampling_frequency = 1000\n",
    "n_trials = 40\n",
    "n_signals = 2\n",
    "no_of_files = len(pathsHPC)"
   ]
  },
  {
   "cell_type": "code",
   "execution_count": 14,
   "id": "301fa696",
   "metadata": {},
   "outputs": [
    {
     "name": "stdout",
     "output_type": "stream",
     "text": [
      "[[[[9.38280245e-01 1.76630354e-04]\n",
      "   [6.17197548e-02 9.99823370e-01]]\n",
      "\n",
      "  [[7.79739783e-01 3.87858742e-02]\n",
      "   [2.20260217e-01 9.61214126e-01]]\n",
      "\n",
      "  [[6.53078086e-01 6.35810765e-02]\n",
      "   [3.46921914e-01 9.36418923e-01]]\n",
      "\n",
      "  ...\n",
      "\n",
      "  [[8.95990243e-01 1.42118275e-02]\n",
      "   [1.04009757e-01 9.85788173e-01]]\n",
      "\n",
      "  [[9.93131906e-01 2.79734251e-03]\n",
      "   [6.86809359e-03 9.97202657e-01]]\n",
      "\n",
      "  [[9.93674868e-01 1.97158266e-03]\n",
      "   [6.32513230e-03 9.98028417e-01]]]]\n"
     ]
    },
    {
     "ename": "AttributeError",
     "evalue": "'numpy.ndarray' object has no attribute 'correlate'",
     "output_type": "error",
     "traceback": [
      "\u001b[1;31m---------------------------------------------------------------------------\u001b[0m",
      "\u001b[1;31mAttributeError\u001b[0m                            Traceback (most recent call last)",
      "Input \u001b[1;32mIn [14]\u001b[0m, in \u001b[0;36m<cell line: 1>\u001b[1;34m()\u001b[0m\n\u001b[0;32m     22\u001b[0m partial_directed_coherence \u001b[38;5;241m=\u001b[39m c\u001b[38;5;241m.\u001b[39mpartial_directed_coherence()\n\u001b[0;32m     23\u001b[0m \u001b[38;5;28mprint\u001b[39m(partial_directed_coherence)\n\u001b[1;32m---> 24\u001b[0m correlation \u001b[38;5;241m=\u001b[39m \u001b[43msignal\u001b[49m\u001b[38;5;241;43m.\u001b[39;49m\u001b[43mcorrelate\u001b[49m(current_dataHPC\u001b[38;5;241m-\u001b[39mnp\u001b[38;5;241m.\u001b[39mmean(current_dataHPC), current_dataPFC \u001b[38;5;241m-\u001b[39m np\u001b[38;5;241m.\u001b[39mmean(current_dataPFC), mode\u001b[38;5;241m=\u001b[39m\u001b[38;5;124m\"\u001b[39m\u001b[38;5;124mfull\u001b[39m\u001b[38;5;124m\"\u001b[39m)\n\u001b[0;32m     25\u001b[0m \u001b[38;5;66;03m#lags = signal.correlation_lags(len(current_dataHPC), len(current_dataPFC), mode=\"full\")\u001b[39;00m\n\u001b[0;32m     26\u001b[0m \u001b[38;5;66;03m#lag = lags[np.argmax(abs(correlation))]\u001b[39;00m\n\u001b[0;32m     27\u001b[0m plt\u001b[38;5;241m.\u001b[39mplot(\u001b[38;5;28mabs\u001b[39m(correlation))\n",
      "\u001b[1;31mAttributeError\u001b[0m: 'numpy.ndarray' object has no attribute 'correlate'"
     ]
    }
   ],
   "source": [
    "for i in range(1): \n",
    "    dataHPC = scipy.io.loadmat(pathsHPC[i])\n",
    "    dataPFC = scipy.io.loadmat(pathsPFC[i])\n",
    "   \n",
    "    \n",
    "    current_dataHPC = dataHPC['HPC']\n",
    "    current_dataPFC = dataPFC['PFC']\n",
    "\n",
    "    n_time_samples = len(current_dataHPC)\n",
    "    time = np.arange(0, n_time_samples)/sampling_frequency \n",
    "    signal = np.zeros((n_time_samples, n_signals))\n",
    "    signal[:, 0] = np.reshape(current_dataHPC, (n_time_samples,))\n",
    "    signal[:, 1] = np.reshape(current_dataPFC, (n_time_samples,))\n",
    "    \n",
    "    m = Multitaper(signal,\n",
    "                   sampling_frequency=sampling_frequency,\n",
    "                   time_halfbandwidth_product=5,\n",
    "                   start_time=time[0])\n",
    "    c = Connectivity(fourier_coefficients=m.fft(),\n",
    "                     frequencies=m.frequencies)\n",
    "    \n",
    "    partial_directed_coherence = c.partial_directed_coherence()\n",
    "    print(partial_directed_coherence)\n",
    "    correlation = signal.correlate(current_dataHPC-np.mean(current_dataHPC), current_dataPFC - np.mean(current_dataPFC), mode=\"full\")\n",
    "    #lags = signal.correlation_lags(len(current_dataHPC), len(current_dataPFC), mode=\"full\")\n",
    "    #lag = lags[np.argmax(abs(correlation))]\n",
    "    plt.plot(abs(correlation))\n",
    "    plt.show()\n",
    "  "
   ]
  },
  {
   "cell_type": "code",
   "execution_count": null,
   "id": "78766a50",
   "metadata": {},
   "outputs": [],
   "source": []
  },
  {
   "cell_type": "code",
   "execution_count": null,
   "id": "49807c31",
   "metadata": {},
   "outputs": [],
   "source": []
  }
 ],
 "metadata": {
  "kernelspec": {
   "display_name": "Python 3 (ipykernel)",
   "language": "python",
   "name": "python3"
  },
  "language_info": {
   "codemirror_mode": {
    "name": "ipython",
    "version": 3
   },
   "file_extension": ".py",
   "mimetype": "text/x-python",
   "name": "python",
   "nbconvert_exporter": "python",
   "pygments_lexer": "ipython3",
   "version": "3.9.12"
  }
 },
 "nbformat": 4,
 "nbformat_minor": 5
}
