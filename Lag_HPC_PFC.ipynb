{
 "cells": [
  {
   "cell_type": "code",
   "execution_count": 1,
   "id": "370bd72c",
   "metadata": {},
   "outputs": [],
   "source": [
    "from signal import signal\n",
    "from matplotlib.offsetbox import HPacker\n",
    "import scipy\n",
    "import scipy\n",
    "from scipy.io import loadmat\n",
    "import numpy as np\n",
    "import matplotlib.pyplot as plt\n",
    "import glob\n",
    "import os\n",
    "from spectral_connectivity import Multitaper\n",
    "from spectral_connectivity import Connectivity\n",
    "from spectral_connectivity import multitaper_connectivity\n",
    "from pathlib import Path\n",
    "import matplotlib.pyplot as plt"
   ]
  },
  {
   "cell_type": "code",
   "execution_count": 2,
   "id": "00fc7959",
   "metadata": {},
   "outputs": [],
   "source": [
    "pathsHPC = [path for path in Path('C:/Users/LENOVO/Desktop/sem7/internship/HomeCageHC').resolve().glob(\"**/*HPC*.mat\")] # works (all full paths to HPC files)\n",
    "pathsPFC = [path for path in Path('C:/Users/LENOVO/Desktop/sem7/internship/HomeCageHC').resolve().glob(\"**/*PFC*.mat\")] # works (all full paths to PFC files)\n",
    "\n",
    "\n",
    "sampling_frequency = 1000\n",
    "n_trials = len(pathsHPC)\n",
    "time_halfbandwidth_product = 5\n",
    "frequency_of_interest = list(range(10,30))\n",
    "\n",
    "dataHPC = scipy.io.loadmat(pathsHPC[0])\n",
    "dataPFC = scipy.io.loadmat(pathsPFC[0])\n",
    "\n",
    "HPC=np.zeros(300000*39).reshape(300000,39)\n",
    "PFC=np.zeros(300000*39).reshape(300000,39)"
   ]
  },
  {
   "cell_type": "code",
   "execution_count": 3,
   "id": "9e382b54",
   "metadata": {},
   "outputs": [
    {
     "name": "stdout",
     "output_type": "stream",
     "text": [
      "300000\n",
      "300000\n",
      "300000\n",
      "300000\n",
      "300000\n",
      "300000\n",
      "300000\n",
      "300000\n",
      "300000\n",
      "300000\n",
      "300000\n",
      "300000\n",
      "300000\n",
      "300000\n",
      "300000\n",
      "300000\n",
      "300000\n",
      "300000\n",
      "300000\n",
      "300000\n",
      "300000\n",
      "300000\n",
      "300000\n",
      "300000\n",
      "300000\n",
      "300000\n",
      "300000\n",
      "300000\n",
      "300000\n",
      "300000\n",
      "300000\n",
      "300000\n",
      "300000\n",
      "300000\n",
      "300000\n",
      "300000\n",
      "300000\n",
      "300000\n"
     ]
    }
   ],
   "source": [
    "for i in range(n_trials-1): \n",
    "    # np.seterr(divide='ignore', invalid='ignore')\n",
    "    # print(i)\n",
    "    dataHPC = scipy.io.loadmat(pathsHPC[i])\n",
    "    dataPFC = scipy.io.loadmat(pathsPFC[i])\n",
    "   \n",
    "    current_dataHPC = dataHPC['HPC']\n",
    "    current_dataPFC = dataPFC['PFC']\n",
    "    current_dataHPC=current_dataHPC[0:300000]\n",
    "    current_dataPFC=current_dataPFC[0:300000]\n",
    "    n_time_samples = len(current_dataHPC)\n",
    "    # print(n_time_samples)\n",
    "    \n",
    "    if n_time_samples == 300000:\n",
    "        time = np.arange(0, n_time_samples)/sampling_frequency\n",
    "        signal1 = np.zeros(n_time_samples)\n",
    "        signal2 = np.zeros(n_time_samples)\n",
    "        signal1 = current_dataHPC\n",
    "        signal2 = current_dataPFC\n",
    "        HPC[:,i,np.newaxis] = signal1\n",
    "        PFC[:,i,np.newaxis] = signal2\n",
    "        print(n_time_samples)\n",
    "  "
   ]
  },
  {
   "cell_type": "code",
   "execution_count": 5,
   "id": "7dffb8fe",
   "metadata": {},
   "outputs": [
    {
     "name": "stdout",
     "output_type": "stream",
     "text": [
      "(300000, 39)\n",
      "(300000, 39, 2)\n",
      "[[[        nan -0.18106588]\n",
      "  [ 0.18106588         nan]]]\n"
     ]
    }
   ],
   "source": [
    "print(HPC.shape)\n",
    "\n",
    "signals = np.stack((HPC, PFC), axis=-1)\n",
    "\n",
    "print(signals.shape)\n",
    "\n",
    "m = Multitaper(\n",
    "signals,\n",
    "sampling_frequency=sampling_frequency,\n",
    "time_halfbandwidth_product=time_halfbandwidth_product,\n",
    "start_time=time[0],\n",
    ")\n",
    "c = Connectivity(fourier_coefficients=m.fft(), frequencies=m.frequencies, time=m.time)\n",
    "\n",
    "delay, slope, r_value = c.group_delay(\n",
    "frequencies_of_interest=list(range(10,30)), frequency_resolution=m.frequency_resolution\n",
    ")\n",
    "print(delay)\n"
   ]
  },
  {
   "cell_type": "code",
   "execution_count": 6,
   "id": "a32dad65",
   "metadata": {},
   "outputs": [
    {
     "data": {
      "text/plain": [
       "<BarContainer object of 2 artists>"
      ]
     },
     "execution_count": 6,
     "metadata": {},
     "output_type": "execute_result"
    },
    {
     "data": {
      "image/png": "[encoded data removed]",
      "text/plain": [
       "<Figure size 432x288 with 1 Axes>"
      ]
     },
     "metadata": {
      "needs_background": "light"
     },
     "output_type": "display_data"
    }
   ],
   "source": [
    "plt.bar(\n",
    "    [1, 2], [delay[..., 0, 1].squeeze(), delay[..., 1, 0].squeeze()], color=[\"b\", \"g\"]\n",
    ")"
   ]
  },
  {
   "cell_type": "code",
   "execution_count": null,
   "id": "d2ccca05",
   "metadata": {},
   "outputs": [],
   "source": []
  }
 ],
 "metadata": {
  "kernelspec": {
   "display_name": "Python 3 (ipykernel)",
   "language": "python",
   "name": "python3"
  },
  "language_info": {
   "codemirror_mode": {
    "name": "ipython",
    "version": 3
   },
   "file_extension": ".py",
   "mimetype": "text/x-python",
   "name": "python",
   "nbconvert_exporter": "python",
   "pygments_lexer": "ipython3",
   "version": "3.9.12"
  }
 },
 "nbformat": 4,
 "nbformat_minor": 5
}
