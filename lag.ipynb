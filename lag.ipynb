{
 "cells": [
  {
   "cell_type": "code",
   "execution_count": 1,
   "metadata": {},
   "outputs": [],
   "source": [
    "from signal import signal\n",
    "from matplotlib.offsetbox import HPacker\n",
    "import scipy\n",
    "import scipy\n",
    "from scipy.io import loadmat\n",
    "import numpy as np\n",
    "import matplotlib.pyplot as plt\n",
    "import glob\n",
    "import os\n",
    "from spectral_connectivity import Multitaper\n",
    "from spectral_connectivity import Connectivity\n",
    "from spectral_connectivity import multitaper_connectivity\n",
    "from pathlib import Path\n",
    "import pandas as pd"
   ]
  },
  {
   "cell_type": "code",
   "execution_count": 2,
   "metadata": {},
   "outputs": [],
   "source": [
    "THETA = []\n",
    "THETA_SEM = []\n",
    "BETA = []\n",
    "BETA_SEM = []"
   ]
  },
  {
   "cell_type": "code",
   "execution_count": 3,
   "metadata": {},
   "outputs": [
    {
     "name": "stdout",
     "output_type": "stream",
     "text": [
      "(324233, 1, 2)\n",
      "-0.032937246694801886 -0.013015317353498344\n",
      "(323926, 1, 2)\n",
      "-0.032241930614632014 0.005922383050210896\n",
      "(325837, 1, 2)\n",
      "-0.014463915640329825 0.017880823194169816\n",
      "(325837, 1, 2)\n",
      "-0.02022227119754244 -0.017129352612470138\n",
      "(329080, 1, 2)\n",
      "-0.011768061115575872 -0.0042110715173339945\n",
      "(638123, 1, 2)\n",
      "0.006825212156528066 0.016541083172707336\n"
     ]
    },
    {
     "data": {
      "image/png": "[encoded data removed]",
      "text/plain": [
       "<Figure size 432x288 with 1 Axes>"
      ]
     },
     "metadata": {
      "needs_background": "light"
     },
     "output_type": "display_data"
    }
   ],
   "source": [
    "pathsHPC = [path for path in Path('D:/users/Desktop/sem7/internship/NEW/1/Rat_OS_Ephys_RGS14_Rat1_57986_SD1_CON_26-27_07_2018').resolve().glob(\"**/*HPC*.mat\")] # works (all full paths to HPC files)\n",
    "pathsPFC = [path for path in Path('D:/users/Desktop/sem7/internship/NEW/1/Rat_OS_Ephys_RGS14_Rat1_57986_SD1_CON_26-27_07_2018').resolve().glob(\"**/*PFC*.mat\")] # works (all full paths to PFC files)\n",
    "\n",
    "\n",
    "sampling_frequency = 1000\n",
    "time_halfbandwidth_product = 5\n",
    "n_trials = len(pathsHPC)\n",
    "\n",
    "theta=[]\n",
    "beta=[]\n",
    "\n",
    "for i in range(n_trials):\n",
    "    dataHPC = scipy.io.loadmat(pathsHPC[i])\n",
    "    dataPFC = scipy.io.loadmat(pathsPFC[i])\n",
    "   \n",
    "    current_dataHPC = dataHPC['HPC']\n",
    "    current_dataPFC = dataPFC['PFC']\n",
    "    n_time_samples = len(current_dataHPC)\n",
    "\n",
    "    time = np.arange(0, n_time_samples)/sampling_frequency\n",
    "    signal1 = np.zeros(n_time_samples)\n",
    "    signal2 = np.zeros(n_time_samples)\n",
    "    signal1 = current_dataHPC\n",
    "    signal2 = current_dataPFC\n",
    "\n",
    "    signals = np.stack((signal1, signal2), axis=-1)\n",
    "    \n",
    "    print(signals.shape)\n",
    "\n",
    "    m = Multitaper(\n",
    "    signals,\n",
    "    sampling_frequency=sampling_frequency,\n",
    "    time_halfbandwidth_product=time_halfbandwidth_product,\n",
    "    start_time=time[0],\n",
    "    time_window_duration=10,\n",
    "    time_window_step=1\n",
    "    )\n",
    "\n",
    "    c = Connectivity(fourier_coefficients=m.fft(), frequencies=m.frequencies, time=m.time)\n",
    "\n",
    "    delay_theta, slope, r_value= c.group_delay(\n",
    "    frequencies_of_interest=list(range(5,12)), frequency_resolution=m.frequency_resolution\n",
    "    )\n",
    "\n",
    "    delay_beta, slope, r_value= c.group_delay(\n",
    "    frequencies_of_interest=list(range(15,30)), frequency_resolution=m.frequency_resolution\n",
    "    )\n",
    "    \n",
    "    D1=np.nanmean(delay_theta[:,0,1])\n",
    "    D2=np.nanmean(delay_beta[:,0,1])\n",
    "    print(D1,D2)\n",
    "    theta.append(D1)\n",
    "    beta.append(D2)\n",
    "\n",
    "# Calculate the average\n",
    "theta_mean = np.nanmean(theta)\n",
    "beta_mean = np.nanmean(beta)\n",
    "\n",
    "\n",
    "# Calculate the standard error of mean\n",
    "t=pd.Series(theta)\n",
    "g=pd.Series(beta)\n",
    "theta_std = (np.nanstd(theta))/(np.sqrt(t.count()))\n",
    "beta_std = (np.nanstd(beta))/(np.sqrt(g.count()))\n",
    "\n",
    "# append mean and sem to main list\n",
    "THETA.append(theta_mean)\n",
    "BETA.append(beta_mean)\n",
    "THETA_SEM.append(theta_std)\n",
    "BETA_SEM.append(beta_std)\n",
    "\n",
    "# Create lists for the plot\n",
    "materials = ['Theta', 'Beta']\n",
    "x_pos = np.arange(len(materials))\n",
    "CTEs = [theta_mean, beta_mean]\n",
    "error = [theta_std, beta_std]\n",
    "\n",
    "# Build the plot\n",
    "fig, ax = plt.subplots()\n",
    "ax.bar(x_pos, CTEs, yerr=error, align='center', alpha=0.5, ecolor='black', capsize=10)\n",
    "ax.set_ylabel('Delay')\n",
    "ax.set_xticks(x_pos)\n",
    "ax.set_xticklabels(materials)\n",
    "ax.set_title('SD4_HC')\n",
    "ax.yaxis.grid(True)\n",
    "\n",
    "# Save the figure and show\n",
    "# plt.tight_layout()\n",
    "# plt.savefig('bar_plot_with_error_bars.png')\n",
    "plt.show()"
   ]
  },
  {
   "cell_type": "code",
   "execution_count": 4,
   "metadata": {},
   "outputs": [
    {
     "name": "stdout",
     "output_type": "stream",
     "text": [
      "(319659, 1, 2)\n",
      "-0.003618696458123245 -0.00614190708842354\n",
      "(320035, 1, 2)\n",
      "0.024641339659773998 0.008100588472552028\n",
      "(321605, 1, 2)\n"
     ]
    },
    {
     "name": "stderr",
     "output_type": "stream",
     "text": [
      "C:\\Users\\LENOVO\\AppData\\Local\\Temp\\ipykernel_11292\\974920486.py:50: RuntimeWarning: Mean of empty slice\n",
      "  D2=np.nanmean(delay_beta[:,0,1])\n"
     ]
    },
    {
     "name": "stdout",
     "output_type": "stream",
     "text": [
      "-0.07899534036512244 nan\n",
      "(318738, 1, 2)\n",
      "-0.017525094320932372 -0.11926854120201387\n",
      "(331606, 1, 2)\n",
      "-0.02453461353355181 0.022171338538684172\n",
      "(628293, 1, 2)\n",
      "-0.020290589216047882 nan\n"
     ]
    },
    {
     "data": {
      "image/png": "[encoded data removed]",
      "text/plain": [
       "<Figure size 432x288 with 1 Axes>"
      ]
     },
     "metadata": {
      "needs_background": "light"
     },
     "output_type": "display_data"
    }
   ],
   "source": [
    "pathsHPC = [path for path in Path('D:/users/Desktop/sem7/internship/NEW/1/Rat_OS_Ephys_RGS14_Rat1_57986_SD2_OD_28-29_07_2018').resolve().glob(\"**/*HPC*.mat\")] # works (all full paths to HPC files)\n",
    "pathsPFC = [path for path in Path('D:/users/Desktop/sem7/internship/NEW/1/Rat_OS_Ephys_RGS14_Rat1_57986_SD2_OD_28-29_07_2018').resolve().glob(\"**/*PFC*.mat\")] # works (all full paths to PFC files)\n",
    "\n",
    "\n",
    "sampling_frequency = 1000\n",
    "time_halfbandwidth_product = 5\n",
    "n_trials = len(pathsHPC)\n",
    "\n",
    "theta=[]\n",
    "beta=[]\n",
    "\n",
    "for i in range(n_trials):\n",
    "    dataHPC = scipy.io.loadmat(pathsHPC[i])\n",
    "    dataPFC = scipy.io.loadmat(pathsPFC[i])\n",
    "   \n",
    "    current_dataHPC = dataHPC['HPC']\n",
    "    current_dataPFC = dataPFC['PFC']\n",
    "    n_time_samples = len(current_dataHPC)\n",
    "\n",
    "    time = np.arange(0, n_time_samples)/sampling_frequency\n",
    "    signal1 = np.zeros(n_time_samples)\n",
    "    signal2 = np.zeros(n_time_samples)\n",
    "    signal1 = current_dataHPC\n",
    "    signal2 = current_dataPFC\n",
    "\n",
    "    signals = np.stack((signal1, signal2), axis=-1)\n",
    "    \n",
    "    print(signals.shape)\n",
    "\n",
    "    m = Multitaper(\n",
    "    signals,\n",
    "    sampling_frequency=sampling_frequency,\n",
    "    time_halfbandwidth_product=time_halfbandwidth_product,\n",
    "    start_time=time[0],\n",
    "    time_window_duration=10,\n",
    "    time_window_step=1\n",
    "    )\n",
    "\n",
    "    c = Connectivity(fourier_coefficients=m.fft(), frequencies=m.frequencies, time=m.time)\n",
    "\n",
    "    delay_theta, slope, r_value= c.group_delay(\n",
    "    frequencies_of_interest=list(range(5,12)), frequency_resolution=m.frequency_resolution\n",
    "    )\n",
    "\n",
    "    delay_beta, slope, r_value= c.group_delay(\n",
    "    frequencies_of_interest=list(range(15,30)), frequency_resolution=m.frequency_resolution\n",
    "    )\n",
    "   \n",
    "    D1=np.nanmean(delay_theta[:,0,1])\n",
    "    D2=np.nanmean(delay_beta[:,0,1])\n",
    "    print(D1,D2)\n",
    "    theta.append(D1)\n",
    "    beta.append(D2)\n",
    "\n",
    "# Calculate the average\n",
    "theta_mean = np.nanmean(theta)\n",
    "beta_mean = np.nanmean(beta)\n",
    "\n",
    "\n",
    "# Calculate the standard error of mean\n",
    "t=pd.Series(theta)\n",
    "g=pd.Series(beta)\n",
    "theta_std = (np.nanstd(theta))/(np.sqrt(t.count()))\n",
    "beta_std = (np.nanstd(beta))/(np.sqrt(g.count()))\n",
    "\n",
    "\n",
    "# append mean and sem to main list\n",
    "THETA.append(theta_mean)\n",
    "BETA.append(beta_mean)\n",
    "THETA_SEM.append(theta_std)\n",
    "BETA_SEM.append(beta_std)\n",
    "\n",
    "# Create lists for the plot\n",
    "materials = ['Theta', 'Beta']\n",
    "x_pos = np.arange(len(materials))\n",
    "CTEs = [theta_mean, beta_mean]\n",
    "error = [theta_std, beta_std]\n",
    "\n",
    "# Build the plot\n",
    "fig, ax = plt.subplots()\n",
    "ax.bar(x_pos, CTEs, yerr=error, align='center', alpha=0.5, ecolor='black', capsize=10)\n",
    "ax.set_ylabel('Delay')\n",
    "ax.set_xticks(x_pos)\n",
    "ax.set_xticklabels(materials)\n",
    "ax.set_title('SD4_HC')\n",
    "ax.yaxis.grid(True)\n",
    "\n",
    "# Save the figure and show\n",
    "# plt.tight_layout()\n",
    "# plt.savefig('bar_plot_with_error_bars.png')\n",
    "plt.show()\n"
   ]
  },
  {
   "cell_type": "code",
   "execution_count": 5,
   "metadata": {},
   "outputs": [
    {
     "name": "stdout",
     "output_type": "stream",
     "text": [
      "(368777, 1, 2)\n",
      "-0.03261484617726465 -0.0014578079094299504\n",
      "(317987, 1, 2)\n",
      "-0.007776297456668797 -0.0007468392993269494\n",
      "(327032, 1, 2)\n",
      "0.0090516167100174 0.026038799642053224\n",
      "(332869, 1, 2)\n",
      "0.009086384691193092 0.020996170972590773\n",
      "(323004, 1, 2)\n",
      "0.015370156130402183 -0.007141514354956251\n",
      "(631433, 1, 2)\n",
      "-0.007001124403498693 -0.02917323826405386\n"
     ]
    },
    {
     "data": {
      "image/png": "[encoded data removed]",
      "text/plain": [
       "<Figure size 432x288 with 1 Axes>"
      ]
     },
     "metadata": {
      "needs_background": "light"
     },
     "output_type": "display_data"
    }
   ],
   "source": [
    "pathsHPC = [path for path in Path('D:/users/Desktop/sem7/internship/NEW/1/Rat_OS_Ephys_RGS14_Rat1_57986_SD3_OR_30-31_07_2018').resolve().glob(\"**/*HPC*.mat\")] # works (all full paths to HPC files)\n",
    "pathsPFC = [path for path in Path('D:/users/Desktop/sem7/internship/NEW/1/Rat_OS_Ephys_RGS14_Rat1_57986_SD3_OR_30-31_07_2018').resolve().glob(\"**/*PFC*.mat\")] # works (all full paths to PFC files)\n",
    "\n",
    "\n",
    "sampling_frequency = 1000\n",
    "time_halfbandwidth_product = 5\n",
    "n_trials = len(pathsHPC)\n",
    "\n",
    "theta=[]\n",
    "beta=[]\n",
    "\n",
    "for i in range(n_trials):\n",
    "    dataHPC = scipy.io.loadmat(pathsHPC[i])\n",
    "    dataPFC = scipy.io.loadmat(pathsPFC[i])\n",
    "   \n",
    "    current_dataHPC = dataHPC['HPC']\n",
    "    current_dataPFC = dataPFC['PFC']\n",
    "    n_time_samples = len(current_dataHPC)\n",
    "\n",
    "    time = np.arange(0, n_time_samples)/sampling_frequency\n",
    "    signal1 = np.zeros(n_time_samples)\n",
    "    signal2 = np.zeros(n_time_samples)\n",
    "    signal1 = current_dataHPC\n",
    "    signal2 = current_dataPFC\n",
    "\n",
    "    signals = np.stack((signal1, signal2), axis=-1)\n",
    "    \n",
    "    print(signals.shape)\n",
    "\n",
    "    m = Multitaper(\n",
    "    signals,\n",
    "    sampling_frequency=sampling_frequency,\n",
    "    time_halfbandwidth_product=time_halfbandwidth_product,\n",
    "    start_time=time[0],\n",
    "    time_window_duration=10,\n",
    "    time_window_step=1\n",
    "    )\n",
    "\n",
    "    c = Connectivity(fourier_coefficients=m.fft(), frequencies=m.frequencies, time=m.time)\n",
    "\n",
    "    delay_theta, slope, r_value= c.group_delay(\n",
    "    frequencies_of_interest=list(range(5,12)), frequency_resolution=m.frequency_resolution\n",
    "    )\n",
    "\n",
    "    delay_beta, slope, r_value= c.group_delay(\n",
    "    frequencies_of_interest=list(range(15,30)), frequency_resolution=m.frequency_resolution\n",
    "    )\n",
    "   \n",
    "    D1=np.nanmean(delay_theta[:,0,1])\n",
    "    D2=np.nanmean(delay_beta[:,0,1])\n",
    "    print(D1,D2)\n",
    "    theta.append(D1)\n",
    "    beta.append(D2)\n",
    "\n",
    "# Calculate the average\n",
    "theta_mean = np.nanmean(theta)\n",
    "beta_mean = np.nanmean(beta)\n",
    "\n",
    "\n",
    "# Calculate the standard error of mean\n",
    "t=pd.Series(theta)\n",
    "g=pd.Series(beta)\n",
    "theta_std = (np.nanstd(theta))/(np.sqrt(t.count()))\n",
    "beta_std = (np.nanstd(beta))/(np.sqrt(g.count()))\n",
    "\n",
    "# append mean and sem to main list\n",
    "THETA.append(theta_mean)\n",
    "BETA.append(beta_mean)\n",
    "THETA_SEM.append(theta_std)\n",
    "BETA_SEM.append(beta_std)\n",
    "\n",
    "\n",
    "# Create lists for the plot\n",
    "materials = ['Theta', 'Beta']\n",
    "x_pos = np.arange(len(materials))\n",
    "CTEs = [theta_mean, beta_mean]\n",
    "error = [theta_std, beta_std]\n",
    "\n",
    "# Build the plot\n",
    "fig, ax = plt.subplots()\n",
    "ax.bar(x_pos, CTEs, yerr=error, align='center', alpha=0.5, ecolor='black', capsize=10)\n",
    "ax.set_ylabel('Delay')\n",
    "ax.set_xticks(x_pos)\n",
    "ax.set_xticklabels(materials)\n",
    "ax.set_title('SD4_HC')\n",
    "ax.yaxis.grid(True)\n",
    "\n",
    "# Save the figure and show\n",
    "# plt.tight_layout()\n",
    "# plt.savefig('bar_plot_with_error_bars.png')\n",
    "plt.show()"
   ]
  },
  {
   "cell_type": "code",
   "execution_count": 6,
   "metadata": {},
   "outputs": [
    {
     "name": "stdout",
     "output_type": "stream",
     "text": [
      "(300544, 1, 2)\n",
      "-0.0012747335714325377 -0.03827025012360972\n",
      "(301364, 1, 2)\n",
      "-0.07491894363855259 0.003170564551672163\n",
      "(300203, 1, 2)\n",
      "0.0778071829970705 0.007529419922155622\n",
      "(391373, 1, 2)\n",
      "-0.06835400916975712 -0.07184895312732176\n",
      "(302524, 1, 2)\n",
      "nan -0.00767409565099895\n"
     ]
    },
    {
     "name": "stderr",
     "output_type": "stream",
     "text": [
      "C:\\Users\\LENOVO\\AppData\\Local\\Temp\\ipykernel_11292\\3483041658.py:49: RuntimeWarning: Mean of empty slice\n",
      "  D1=np.nanmean(delay_theta[:,0,1])\n"
     ]
    },
    {
     "data": {
      "image/png": "[encoded data removed]",
      "text/plain": [
       "<Figure size 432x288 with 1 Axes>"
      ]
     },
     "metadata": {
      "needs_background": "light"
     },
     "output_type": "display_data"
    }
   ],
   "source": [
    "pathsHPC = [path for path in Path('D:/users/Desktop/sem7/internship/NEW/1/Rat_OS_Ephys_RGS14_Rat1_57986_SD4_HC_01_08_2018').resolve().glob(\"**/*HPC*.mat\")] # works (all full paths to HPC files)\n",
    "pathsPFC = [path for path in Path('D:/users/Desktop/sem7/internship/NEW/1/Rat_OS_Ephys_RGS14_Rat1_57986_SD4_HC_01_08_2018').resolve().glob(\"**/*PFC*.mat\")] # works (all full paths to PFC files)\n",
    "\n",
    "\n",
    "sampling_frequency = 1000\n",
    "time_halfbandwidth_product = 5\n",
    "n_trials = len(pathsHPC)\n",
    "\n",
    "theta=[]\n",
    "beta=[]\n",
    "\n",
    "for i in range(n_trials):\n",
    "    dataHPC = scipy.io.loadmat(pathsHPC[i])\n",
    "    dataPFC = scipy.io.loadmat(pathsPFC[i])\n",
    "   \n",
    "    current_dataHPC = dataHPC['HPC']\n",
    "    current_dataPFC = dataPFC['PFC']\n",
    "    n_time_samples = len(current_dataHPC)\n",
    "\n",
    "    time = np.arange(0, n_time_samples)/sampling_frequency\n",
    "    signal1 = np.zeros(n_time_samples)\n",
    "    signal2 = np.zeros(n_time_samples)\n",
    "    signal1 = current_dataHPC\n",
    "    signal2 = current_dataPFC\n",
    "\n",
    "    signals = np.stack((signal1, signal2), axis=-1)\n",
    "    \n",
    "    print(signals.shape)\n",
    "\n",
    "    m = Multitaper(\n",
    "    signals,\n",
    "    sampling_frequency=sampling_frequency,\n",
    "    time_halfbandwidth_product=time_halfbandwidth_product,\n",
    "    start_time=time[0],\n",
    "    time_window_duration=10,\n",
    "    time_window_step=1\n",
    "    )\n",
    "\n",
    "    c = Connectivity(fourier_coefficients=m.fft(), frequencies=m.frequencies, time=m.time)\n",
    "\n",
    "    delay_theta, slope, r_value= c.group_delay(\n",
    "    frequencies_of_interest=list(range(5,12)), frequency_resolution=m.frequency_resolution\n",
    "    )\n",
    "\n",
    "    delay_beta, slope, r_value= c.group_delay(\n",
    "    frequencies_of_interest=list(range(15,30)), frequency_resolution=m.frequency_resolution\n",
    "    )\n",
    "   \n",
    "    D1=np.nanmean(delay_theta[:,0,1])\n",
    "    D2=np.nanmean(delay_beta[:,0,1])\n",
    "    print(D1,D2)\n",
    "    theta.append(D1)\n",
    "    beta.append(D2)\n",
    "\n",
    "# Calculate the average\n",
    "theta_mean = np.nanmean(theta)\n",
    "beta_mean = np.nanmean(beta)\n",
    "\n",
    "\n",
    "# Calculate the standard error of mean\n",
    "t=pd.Series(theta)\n",
    "g=pd.Series(beta)\n",
    "theta_std = (np.nanstd(theta))/(np.sqrt(t.count()))\n",
    "beta_std = (np.nanstd(beta))/(np.sqrt(g.count()))\n",
    "\n",
    "# append mean and sem to main list\n",
    "THETA.append(theta_mean)\n",
    "BETA.append(beta_mean)\n",
    "THETA_SEM.append(theta_std)\n",
    "BETA_SEM.append(beta_std)\n",
    "\n",
    "\n",
    "# Create lists for the plot\n",
    "materials = ['Theta', 'Beta']\n",
    "x_pos = np.arange(len(materials))\n",
    "CTEs = [theta_mean, beta_mean]\n",
    "error = [theta_std, beta_std]\n",
    "\n",
    "# Build the plot\n",
    "fig, ax = plt.subplots()\n",
    "ax.bar(x_pos, CTEs, yerr=error, align='center', alpha=0.5, ecolor='black', capsize=10)\n",
    "ax.set_ylabel('Delay')\n",
    "ax.set_xticks(x_pos)\n",
    "ax.set_xticklabels(materials)\n",
    "ax.set_title('SD4_HC')\n",
    "ax.yaxis.grid(True)\n",
    "\n",
    "# Save the figure and show\n",
    "# plt.tight_layout()\n",
    "# plt.savefig('bar_plot_with_error_bars.png')\n",
    "plt.show()"
   ]
  },
  {
   "cell_type": "code",
   "execution_count": 7,
   "metadata": {},
   "outputs": [
    {
     "data": {
      "image/png": "[encoded data removed]",
      "text/plain": [
       "<Figure size 432x288 with 1 Axes>"
      ]
     },
     "metadata": {
      "needs_background": "light"
     },
     "output_type": "display_data"
    }
   ],
   "source": [
    "# Create lists for the plot\n",
    "materials = ['CON', 'OD', 'OR', 'HC']\n",
    "x_pos = np.arange(len(materials))\n",
    "CTEs = THETA\n",
    "error = THETA_SEM\n",
    "\n",
    "\n",
    "# Build the plot\n",
    "fig, ax = plt.subplots()\n",
    "ax.bar(x_pos, CTEs,  yerr=error, align='center', ecolor='black', capsize=10)\n",
    "ax.set_ylabel('Delay')\n",
    "ax.set_xticks(x_pos)\n",
    "ax.set_xticklabels(materials)\n",
    "ax.set_title('Theta')\n",
    "ax.yaxis.grid(True)\n",
    "\n",
    "# Save the figure and show\n",
    "plt.tight_layout()\n",
    "plt.savefig('theta_four_conditions_together.png')\n",
    "plt.show()"
   ]
  },
  {
   "cell_type": "code",
   "execution_count": 8,
   "metadata": {},
   "outputs": [
    {
     "data": {
      "image/png": "[encoded data removed]",
      "text/plain": [
       "<Figure size 432x288 with 1 Axes>"
      ]
     },
     "metadata": {
      "needs_background": "light"
     },
     "output_type": "display_data"
    }
   ],
   "source": [
    "# Create lists for the plot\n",
    "materials = ['CON', 'OD', 'OR', 'HC']\n",
    "x_pos = np.arange(len(materials))\n",
    "CTEs = BETA\n",
    "error = BETA_SEM\n",
    "\n",
    "\n",
    "# Build the plot\n",
    "fig, ax = plt.subplots()\n",
    "ax.bar(x_pos, CTEs,  yerr=error, align='center', ecolor='black', capsize=10)\n",
    "ax.set_ylabel('Delay')\n",
    "ax.set_xticks(x_pos)\n",
    "ax.set_xticklabels(materials)\n",
    "ax.set_title('Beta')\n",
    "ax.yaxis.grid(True)\n",
    "\n",
    "# Save the figure and show\n",
    "plt.tight_layout()\n",
    "plt.savefig('beta_four_conditions_together.png')\n",
    "plt.show()"
   ]
  },
  {
   "cell_type": "code",
   "execution_count": 9,
   "metadata": {},
   "outputs": [
    {
     "data": {
      "image/png": "[encoded data removed]",
      "text/plain": [
       "<Figure size 432x288 with 1 Axes>"
      ]
     },
     "metadata": {
      "needs_background": "light"
     },
     "output_type": "display_data"
    }
   ],
   "source": [
    "N = len(BETA)\n",
    "THREE = BETA\n",
    "THREE_SEM = BETA_SEM\n",
    "\n",
    "ind = np.arange(N)  # the x locations for the groups\n",
    "width = 0.35       # the width of the bars\n",
    "\n",
    "# fig = plt.figure()\n",
    "# ax = fig.add_subplot(111)\n",
    "\n",
    "fig, ax = plt.subplots()\n",
    "ax.bar(ind, THREE, width, yerr=THREE_SEM, align='center', ecolor='black', capsize=10)\n",
    "\n",
    "ONE = [BETA[-1],BETA[-1],BETA[-1],BETA[-1]]\n",
    "ONE_SEM = [BETA_SEM[-1],BETA_SEM[-1],BETA_SEM[-1],BETA_SEM[-1]]\n",
    "\n",
    "ax.bar(ind+width, ONE, width, yerr=ONE_SEM, align='center', ecolor='black', capsize=10)\n",
    "\n",
    "# add some\n",
    "ax.set_ylabel('Delay')\n",
    "ax.set_title('BETA')\n",
    "ax.set_xticks(ind + width / 2)\n",
    "ax.set_xticklabels( ('CON/HC', 'OD/HC', 'OR/HC', 'HC/HC') )\n",
    "ax.yaxis.grid(True)\n",
    "\n",
    "plt.tight_layout()\n",
    "plt.savefig('beta_all_conditions_vs_hc.png')\n",
    "plt.show()\n",
    "plt.show()"
   ]
  },
  {
   "cell_type": "code",
   "execution_count": 10,
   "metadata": {},
   "outputs": [
    {
     "data": {
      "image/png": "[encoded data removed]",
      "text/plain": [
       "<Figure size 432x288 with 1 Axes>"
      ]
     },
     "metadata": {
      "needs_background": "light"
     },
     "output_type": "display_data"
    }
   ],
   "source": [
    "N = len(THETA)\n",
    "THREE = THETA\n",
    "THREE_SEM = THETA_SEM\n",
    "\n",
    "ind = np.arange(N)  # the x locations for the groups\n",
    "width = 0.35       # the width of the bars\n",
    "\n",
    "\n",
    "fig, ax = plt.subplots()\n",
    "ax.bar(ind, THREE, width, yerr=THREE_SEM, align='center', ecolor='black', capsize=10)\n",
    "\n",
    "ONE = [THETA[-1],THETA[-1],THETA[-1],THETA[-1]]\n",
    "ONE_SEM = [THETA_SEM[-1],THETA_SEM[-1],THETA_SEM[-1],THETA_SEM[-1]]\n",
    "\n",
    "ax.bar(ind+width, ONE, width, yerr=ONE_SEM, align='center', ecolor='black', capsize=10)\n",
    "\n",
    "# add some\n",
    "ax.set_ylabel('Delay')\n",
    "ax.set_title('THETA')\n",
    "ax.set_xticks(ind + width / 2)\n",
    "ax.set_xticklabels( ('CON/HC', 'OD/HC', 'OR/HC', 'HC/HC') )\n",
    "ax.yaxis.grid(True)\n",
    "\n",
    "plt.tight_layout()\n",
    "plt.savefig('theta_all_conditions_vs_hc.png')\n",
    "plt.show()\n"
   ]
  },
  {
   "cell_type": "code",
   "execution_count": null,
   "metadata": {},
   "outputs": [],
   "source": []
  }
 ],
 "metadata": {
  "kernelspec": {
   "display_name": "base",
   "language": "python",
   "name": "python3"
  },
  "language_info": {
   "codemirror_mode": {
    "name": "ipython",
    "version": 3
   },
   "file_extension": ".py",
   "mimetype": "text/x-python",
   "name": "python",
   "nbconvert_exporter": "python",
   "pygments_lexer": "ipython3",
   "version": "3.9.12"
  },
  "orig_nbformat": 4,
  "vscode": {
   "interpreter": {
    "hash": "7106a2dd42f767f596383dbbdc683a7b6315aa8f09b4aaa716d55419ef198934"
   }
  }
 },
 "nbformat": 4,
 "nbformat_minor": 2
}
