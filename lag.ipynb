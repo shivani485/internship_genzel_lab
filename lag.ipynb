{
 "cells": [
  {
   "cell_type": "code",
   "execution_count": 1,
   "metadata": {},
   "outputs": [],
   "source": [
    "from signal import signal\n",
    "from matplotlib.offsetbox import HPacker\n",
    "import scipy\n",
    "import scipy\n",
    "from scipy.io import loadmat\n",
    "import numpy as np\n",
    "import matplotlib.pyplot as plt\n",
    "import glob\n",
    "import os\n",
    "from spectral_connectivity import Multitaper\n",
    "from spectral_connectivity import Connectivity\n",
    "from spectral_connectivity import multitaper_connectivity\n",
    "from pathlib import Path\n",
    "import pandas as pd"
   ]
  },
  {
   "cell_type": "code",
   "execution_count": 2,
   "metadata": {},
   "outputs": [],
   "source": [
    "THETA = []\n",
    "THETA_SEM = []\n",
    "BETA = []\n",
    "BETA_SEM = []"
   ]
  },
  {
   "cell_type": "code",
   "execution_count": 19,
   "metadata": {},
   "outputs": [
    {
     "name": "stdout",
     "output_type": "stream",
     "text": [
      "(324233, 1, 2)\n",
      "[[[nan nan]\n",
      "  [nan nan]]\n",
      "\n",
      " [[nan nan]\n",
      "  [nan nan]]\n",
      "\n",
      " [[nan nan]\n",
      "  [nan nan]]\n",
      "\n",
      " ...\n",
      "\n",
      " [[nan nan]\n",
      "  [nan nan]]\n",
      "\n",
      " [[nan nan]\n",
      "  [nan nan]]\n",
      "\n",
      " [[nan nan]\n",
      "  [nan nan]]]\n",
      "-0.032937246694801886 -0.013015317353498344\n",
      "(323926, 1, 2)\n",
      "[[[nan nan]\n",
      "  [nan nan]]\n",
      "\n",
      " [[nan nan]\n",
      "  [nan nan]]\n",
      "\n",
      " [[nan nan]\n",
      "  [nan nan]]\n",
      "\n",
      " ...\n",
      "\n",
      " [[nan nan]\n",
      "  [nan nan]]\n",
      "\n",
      " [[nan nan]\n",
      "  [nan nan]]\n",
      "\n",
      " [[nan nan]\n",
      "  [nan nan]]]\n",
      "-0.032241930614632014 0.005922383050210896\n",
      "(325837, 1, 2)\n",
      "[[[nan nan]\n",
      "  [nan nan]]\n",
      "\n",
      " [[nan nan]\n",
      "  [nan nan]]\n",
      "\n",
      " [[nan nan]\n",
      "  [nan nan]]\n",
      "\n",
      " ...\n",
      "\n",
      " [[nan nan]\n",
      "  [nan nan]]\n",
      "\n",
      " [[nan nan]\n",
      "  [nan nan]]\n",
      "\n",
      " [[nan nan]\n",
      "  [nan nan]]]\n",
      "-0.014463915640329825 0.017880823194169816\n",
      "(325837, 1, 2)\n"
     ]
    },
    {
     "ename": "KeyboardInterrupt",
     "evalue": "",
     "output_type": "error",
     "traceback": [
      "\u001b[1;31m---------------------------------------------------------------------------\u001b[0m",
      "\u001b[1;31mKeyboardInterrupt\u001b[0m                         Traceback (most recent call last)",
      "\u001b[1;32md:\\users\\Desktop\\sem7\\internship\\lag.ipynb Cell 3\u001b[0m in \u001b[0;36m<cell line: 12>\u001b[1;34m()\u001b[0m\n\u001b[0;32m     <a href='vscode-notebook-cell:/d%3A/users/Desktop/sem7/internship/lag.ipynb#W2sZmlsZQ%3D%3D?line=27'>28</a>\u001b[0m \u001b[39mprint\u001b[39m(signals\u001b[39m.\u001b[39mshape)\n\u001b[0;32m     <a href='vscode-notebook-cell:/d%3A/users/Desktop/sem7/internship/lag.ipynb#W2sZmlsZQ%3D%3D?line=29'>30</a>\u001b[0m m \u001b[39m=\u001b[39m Multitaper(\n\u001b[0;32m     <a href='vscode-notebook-cell:/d%3A/users/Desktop/sem7/internship/lag.ipynb#W2sZmlsZQ%3D%3D?line=30'>31</a>\u001b[0m signals,\n\u001b[0;32m     <a href='vscode-notebook-cell:/d%3A/users/Desktop/sem7/internship/lag.ipynb#W2sZmlsZQ%3D%3D?line=31'>32</a>\u001b[0m sampling_frequency\u001b[39m=\u001b[39msampling_frequency,\n\u001b[1;32m   (...)\u001b[0m\n\u001b[0;32m     <a href='vscode-notebook-cell:/d%3A/users/Desktop/sem7/internship/lag.ipynb#W2sZmlsZQ%3D%3D?line=35'>36</a>\u001b[0m time_window_step\u001b[39m=\u001b[39m\u001b[39m1\u001b[39m\n\u001b[0;32m     <a href='vscode-notebook-cell:/d%3A/users/Desktop/sem7/internship/lag.ipynb#W2sZmlsZQ%3D%3D?line=36'>37</a>\u001b[0m )\n\u001b[1;32m---> <a href='vscode-notebook-cell:/d%3A/users/Desktop/sem7/internship/lag.ipynb#W2sZmlsZQ%3D%3D?line=38'>39</a>\u001b[0m c \u001b[39m=\u001b[39m Connectivity(fourier_coefficients\u001b[39m=\u001b[39mm\u001b[39m.\u001b[39;49mfft(), frequencies\u001b[39m=\u001b[39mm\u001b[39m.\u001b[39mfrequencies, time\u001b[39m=\u001b[39mm\u001b[39m.\u001b[39mtime)\n\u001b[0;32m     <a href='vscode-notebook-cell:/d%3A/users/Desktop/sem7/internship/lag.ipynb#W2sZmlsZQ%3D%3D?line=40'>41</a>\u001b[0m delay_theta, slope, r_value\u001b[39m=\u001b[39m c\u001b[39m.\u001b[39mgroup_delay(\n\u001b[0;32m     <a href='vscode-notebook-cell:/d%3A/users/Desktop/sem7/internship/lag.ipynb#W2sZmlsZQ%3D%3D?line=41'>42</a>\u001b[0m frequencies_of_interest\u001b[39m=\u001b[39m\u001b[39mlist\u001b[39m(\u001b[39mrange\u001b[39m(\u001b[39m5\u001b[39m,\u001b[39m12\u001b[39m)), frequency_resolution\u001b[39m=\u001b[39mm\u001b[39m.\u001b[39mfrequency_resolution\n\u001b[0;32m     <a href='vscode-notebook-cell:/d%3A/users/Desktop/sem7/internship/lag.ipynb#W2sZmlsZQ%3D%3D?line=42'>43</a>\u001b[0m )\n\u001b[0;32m     <a href='vscode-notebook-cell:/d%3A/users/Desktop/sem7/internship/lag.ipynb#W2sZmlsZQ%3D%3D?line=44'>45</a>\u001b[0m delay_beta, slope, r_value\u001b[39m=\u001b[39m c\u001b[39m.\u001b[39mgroup_delay(\n\u001b[0;32m     <a href='vscode-notebook-cell:/d%3A/users/Desktop/sem7/internship/lag.ipynb#W2sZmlsZQ%3D%3D?line=45'>46</a>\u001b[0m frequencies_of_interest\u001b[39m=\u001b[39m\u001b[39mlist\u001b[39m(\u001b[39mrange\u001b[39m(\u001b[39m15\u001b[39m,\u001b[39m30\u001b[39m)), frequency_resolution\u001b[39m=\u001b[39mm\u001b[39m.\u001b[39mfrequency_resolution\n\u001b[0;32m     <a href='vscode-notebook-cell:/d%3A/users/Desktop/sem7/internship/lag.ipynb#W2sZmlsZQ%3D%3D?line=46'>47</a>\u001b[0m )\n",
      "File \u001b[1;32md:\\users\\.anaconda3\\lib\\site-packages\\spectral_connectivity\\transforms.py:259\u001b[0m, in \u001b[0;36mMultitaper.fft\u001b[1;34m(self)\u001b[0m\n\u001b[0;32m    254\u001b[0m     time_series \u001b[39m=\u001b[39m detrend(time_series, \u001b[39mtype\u001b[39m\u001b[39m=\u001b[39m\u001b[39mself\u001b[39m\u001b[39m.\u001b[39mdetrend_type)\n\u001b[0;32m    256\u001b[0m logger\u001b[39m.\u001b[39minfo(\u001b[39mself\u001b[39m)\n\u001b[0;32m    258\u001b[0m \u001b[39mreturn\u001b[39;00m _multitaper_fft(\n\u001b[1;32m--> 259\u001b[0m     \u001b[39mself\u001b[39;49m\u001b[39m.\u001b[39;49mtapers, time_series, \u001b[39mself\u001b[39m\u001b[39m.\u001b[39mn_fft_samples, \u001b[39mself\u001b[39m\u001b[39m.\u001b[39msampling_frequency\n\u001b[0;32m    260\u001b[0m )\u001b[39m.\u001b[39mswapaxes(\u001b[39m2\u001b[39m, \u001b[39m-\u001b[39m\u001b[39m1\u001b[39m)\n",
      "File \u001b[1;32md:\\users\\.anaconda3\\lib\\site-packages\\spectral_connectivity\\transforms.py:127\u001b[0m, in \u001b[0;36mMultitaper.tapers\u001b[1;34m(self)\u001b[0m\n\u001b[0;32m    119\u001b[0m \u001b[39m\"\"\"Returns the tapers used for the multitpaer function. Tapers are the windowing function.\u001b[39;00m\n\u001b[0;32m    120\u001b[0m \n\u001b[0;32m    121\u001b[0m \u001b[39mReturns\u001b[39;00m\n\u001b[1;32m   (...)\u001b[0m\n\u001b[0;32m    124\u001b[0m \n\u001b[0;32m    125\u001b[0m \u001b[39m\"\"\"\u001b[39;00m\n\u001b[0;32m    126\u001b[0m \u001b[39mif\u001b[39;00m \u001b[39mself\u001b[39m\u001b[39m.\u001b[39m_tapers \u001b[39mis\u001b[39;00m \u001b[39mNone\u001b[39;00m:\n\u001b[1;32m--> 127\u001b[0m     \u001b[39mself\u001b[39m\u001b[39m.\u001b[39m_tapers \u001b[39m=\u001b[39m _make_tapers(\n\u001b[0;32m    128\u001b[0m         \u001b[39mself\u001b[39;49m\u001b[39m.\u001b[39;49mn_time_samples_per_window,\n\u001b[0;32m    129\u001b[0m         \u001b[39mself\u001b[39;49m\u001b[39m.\u001b[39;49msampling_frequency,\n\u001b[0;32m    130\u001b[0m         \u001b[39mself\u001b[39;49m\u001b[39m.\u001b[39;49mtime_halfbandwidth_product,\n\u001b[0;32m    131\u001b[0m         \u001b[39mself\u001b[39;49m\u001b[39m.\u001b[39;49mn_tapers,\n\u001b[0;32m    132\u001b[0m         is_low_bias\u001b[39m=\u001b[39;49m\u001b[39mself\u001b[39;49m\u001b[39m.\u001b[39;49mis_low_bias,\n\u001b[0;32m    133\u001b[0m     )\n\u001b[0;32m    134\u001b[0m \u001b[39mreturn\u001b[39;00m \u001b[39mself\u001b[39m\u001b[39m.\u001b[39m_tapers\n",
      "File \u001b[1;32md:\\users\\.anaconda3\\lib\\site-packages\\spectral_connectivity\\transforms.py:382\u001b[0m, in \u001b[0;36m_make_tapers\u001b[1;34m(n_time_samples_per_window, sampling_frequency, time_halfbandwidth_product, n_tapers, is_low_bias)\u001b[0m\n\u001b[0;32m    358\u001b[0m \u001b[39mdef\u001b[39;00m \u001b[39m_make_tapers\u001b[39m(\n\u001b[0;32m    359\u001b[0m     n_time_samples_per_window,\n\u001b[0;32m    360\u001b[0m     sampling_frequency,\n\u001b[1;32m   (...)\u001b[0m\n\u001b[0;32m    363\u001b[0m     is_low_bias\u001b[39m=\u001b[39m\u001b[39mTrue\u001b[39;00m,\n\u001b[0;32m    364\u001b[0m ):\n\u001b[0;32m    365\u001b[0m     \u001b[39m\"\"\"Returns the Discrete prolate spheroidal sequences (tapers) for\u001b[39;00m\n\u001b[0;32m    366\u001b[0m \u001b[39m    multi-taper spectral analysis.\u001b[39;00m\n\u001b[0;32m    367\u001b[0m \n\u001b[1;32m   (...)\u001b[0m\n\u001b[0;32m    380\u001b[0m \n\u001b[0;32m    381\u001b[0m \u001b[39m    \"\"\"\u001b[39;00m\n\u001b[1;32m--> 382\u001b[0m     tapers, _ \u001b[39m=\u001b[39m dpss_windows(\n\u001b[0;32m    383\u001b[0m         n_time_samples_per_window,\n\u001b[0;32m    384\u001b[0m         time_halfbandwidth_product,\n\u001b[0;32m    385\u001b[0m         n_tapers,\n\u001b[0;32m    386\u001b[0m         is_low_bias\u001b[39m=\u001b[39;49mis_low_bias,\n\u001b[0;32m    387\u001b[0m     )\n\u001b[0;32m    388\u001b[0m     \u001b[39mreturn\u001b[39;00m tapers\u001b[39m.\u001b[39mT \u001b[39m*\u001b[39m xp\u001b[39m.\u001b[39msqrt(sampling_frequency)\n",
      "File \u001b[1;32md:\\users\\.anaconda3\\lib\\site-packages\\spectral_connectivity\\transforms.py:533\u001b[0m, in \u001b[0;36mdpss_windows\u001b[1;34m(n_time_samples_per_window, time_halfbandwidth_product, n_tapers, is_low_bias, interp_from, interp_kind)\u001b[0m\n\u001b[0;32m    525\u001b[0m     tapers \u001b[39m=\u001b[39m _find_tapers_from_interpolation(\n\u001b[0;32m    526\u001b[0m         interp_from,\n\u001b[0;32m    527\u001b[0m         time_halfbandwidth_product,\n\u001b[1;32m   (...)\u001b[0m\n\u001b[0;32m    530\u001b[0m         interp_kind,\n\u001b[0;32m    531\u001b[0m     )\n\u001b[0;32m    532\u001b[0m \u001b[39melse\u001b[39;00m:\n\u001b[1;32m--> 533\u001b[0m     tapers \u001b[39m=\u001b[39m _find_tapers_from_optimization(\n\u001b[0;32m    534\u001b[0m         n_time_samples_per_window, time_index, half_bandwidth, n_tapers\n\u001b[0;32m    535\u001b[0m     )\n\u001b[0;32m    537\u001b[0m tapers \u001b[39m=\u001b[39m _fix_taper_sign(tapers, n_time_samples_per_window)\n\u001b[0;32m    538\u001b[0m eigenvalues \u001b[39m=\u001b[39m _get_taper_eigenvalues(tapers, half_bandwidth, time_index)\n",
      "File \u001b[1;32md:\\users\\.anaconda3\\lib\\site-packages\\spectral_connectivity\\transforms.py:627\u001b[0m, in \u001b[0;36m_find_tapers_from_optimization\u001b[1;34m(n_time_samples_per_window, time_index, half_bandwidth, n_tapers)\u001b[0m\n\u001b[0;32m    625\u001b[0m tapers \u001b[39m=\u001b[39m np\u001b[39m.\u001b[39mzeros((n_tapers, n_time_samples_per_window), dtype\u001b[39m=\u001b[39m\u001b[39mfloat\u001b[39m)\n\u001b[0;32m    626\u001b[0m \u001b[39mfor\u001b[39;00m taper_ind \u001b[39min\u001b[39;00m \u001b[39mrange\u001b[39m(n_tapers):\n\u001b[1;32m--> 627\u001b[0m     tapers[taper_ind, :] \u001b[39m=\u001b[39m tridi_inverse_iteration(\n\u001b[0;32m    628\u001b[0m         diagonal, off_diag, w[taper_ind], x0\u001b[39m=\u001b[39;49mnp\u001b[39m.\u001b[39;49msin((taper_ind \u001b[39m+\u001b[39;49m \u001b[39m1\u001b[39;49m) \u001b[39m*\u001b[39;49m t)\n\u001b[0;32m    629\u001b[0m     )\n\u001b[0;32m    630\u001b[0m \u001b[39mreturn\u001b[39;00m xp\u001b[39m.\u001b[39masarray(tapers)\n",
      "File \u001b[1;32md:\\users\\.anaconda3\\lib\\site-packages\\spectral_connectivity\\transforms.py:466\u001b[0m, in \u001b[0;36mtridi_inverse_iteration\u001b[1;34m(d, e, w, x0, rtol)\u001b[0m\n\u001b[0;32m    464\u001b[0m     tridisolve(eig_diag, e, x0)\n\u001b[0;32m    465\u001b[0m     norm_x \u001b[39m=\u001b[39m np\u001b[39m.\u001b[39mlinalg\u001b[39m.\u001b[39mnorm(x0)\n\u001b[1;32m--> 466\u001b[0m     x0 \u001b[39m/\u001b[39m\u001b[39m=\u001b[39m norm_x\n\u001b[0;32m    467\u001b[0m \u001b[39mreturn\u001b[39;00m x0\n",
      "\u001b[1;31mKeyboardInterrupt\u001b[0m: "
     ]
    }
   ],
   "source": [
    "pathsHPC = [path for path in Path('D:/users/Desktop/sem7/internship/NEW/1/Rat_OS_Ephys_RGS14_Rat1_57986_SD1_CON_26-27_07_2018').resolve().glob(\"**/*HPC*.mat\")] # works (all full paths to HPC files)\n",
    "pathsPFC = [path for path in Path('D:/users/Desktop/sem7/internship/NEW/1/Rat_OS_Ephys_RGS14_Rat1_57986_SD1_CON_26-27_07_2018').resolve().glob(\"**/*PFC*.mat\")] # works (all full paths to PFC files)\n",
    "\n",
    "\n",
    "sampling_frequency = 1000\n",
    "time_halfbandwidth_product = 5\n",
    "n_trials = len(pathsHPC)\n",
    "\n",
    "theta=[]\n",
    "beta=[]\n",
    "\n",
    "for i in range(n_trials):\n",
    "    dataHPC = scipy.io.loadmat(pathsHPC[i])\n",
    "    dataPFC = scipy.io.loadmat(pathsPFC[i])\n",
    "   \n",
    "    current_dataHPC = dataHPC['HPC']\n",
    "    current_dataPFC = dataPFC['PFC']\n",
    "    n_time_samples = len(current_dataHPC)\n",
    "\n",
    "    time = np.arange(0, n_time_samples)/sampling_frequency\n",
    "    signal1 = np.zeros(n_time_samples)\n",
    "    signal2 = np.zeros(n_time_samples)\n",
    "    signal1 = current_dataHPC\n",
    "    signal2 = current_dataPFC\n",
    "\n",
    "    signals = np.stack((signal1, signal2), axis=-1)\n",
    "    \n",
    "    print(signals.shape)\n",
    "\n",
    "    m = Multitaper(\n",
    "    signals,\n",
    "    sampling_frequency=sampling_frequency,\n",
    "    time_halfbandwidth_product=time_halfbandwidth_product,\n",
    "    start_time=time[0],\n",
    "    time_window_duration=10,\n",
    "    time_window_step=1\n",
    "    )\n",
    "\n",
    "    c = Connectivity(fourier_coefficients=m.fft(), frequencies=m.frequencies, time=m.time)\n",
    "\n",
    "    delay_theta, slope, r_value= c.group_delay(\n",
    "    frequencies_of_interest=list(range(5,12)), frequency_resolution=m.frequency_resolution\n",
    "    )\n",
    "\n",
    "    delay_beta, slope, r_value= c.group_delay(\n",
    "    frequencies_of_interest=list(range(15,30)), frequency_resolution=m.frequency_resolution\n",
    "    )\n",
    "    \n",
    "    D1=np.nanmean(delay_theta[:,0,1])\n",
    "    D2=np.nanmean(delay_beta[:,0,1])\n",
    "    print(D1,D2)\n",
    "    theta.append(D1)\n",
    "    beta.append(D2)\n",
    "\n",
    "# Calculate the average\n",
    "theta_mean = np.nanmean(theta)\n",
    "beta_mean = np.nanmean(beta)\n",
    "\n",
    "\n",
    "# Calculate the standard error of mean\n",
    "t=pd.Series(theta)\n",
    "g=pd.Series(beta)\n",
    "theta_std = (np.nanstd(theta))/(np.sqrt(t.count()))\n",
    "beta_std = (np.nanstd(beta))/(np.sqrt(g.count()))\n",
    "\n",
    "# append mean and sem to main list\n",
    "THETA.append(theta_mean)\n",
    "BETA.append(beta_mean)\n",
    "THETA_SEM.append(theta_std)\n",
    "BETA_SEM.append(beta_std)\n",
    "\n",
    "# Create lists for the plot\n",
    "materials = ['Theta', 'Beta']\n",
    "x_pos = np.arange(len(materials))\n",
    "CTEs = [theta_mean, beta_mean]\n",
    "error = [theta_std, beta_std]\n",
    "\n",
    "# Build the plot\n",
    "fig, ax = plt.subplots()\n",
    "ax.bar(x_pos, CTEs, yerr=error, align='center', alpha=0.5, ecolor='black', capsize=10)\n",
    "ax.set_ylabel('Delay')\n",
    "ax.set_xticks(x_pos)\n",
    "ax.set_xticklabels(materials)\n",
    "ax.set_title('SD4_HC')\n",
    "ax.yaxis.grid(True)\n",
    "\n",
    "# Save the figure and show\n",
    "# plt.tight_layout()\n",
    "# plt.savefig('bar_plot_with_error_bars.png')\n",
    "plt.show()"
   ]
  },
  {
   "cell_type": "code",
   "execution_count": 20,
   "metadata": {},
   "outputs": [
    {
     "name": "stdout",
     "output_type": "stream",
     "text": [
      "[-0.01540683 -0.00849242  0.0038319  -0.08955475 -0.09787656 -0.08958119\n",
      " -0.0621415  -0.07369035 -0.05811435 -0.08054664         nan         nan\n",
      "         nan         nan         nan         nan         nan         nan\n",
      "         nan         nan         nan         nan         nan         nan\n",
      "         nan         nan         nan -0.04259476 -0.0129077          nan\n",
      " -0.04999654 -0.09207899         nan -0.06523828 -0.06846596 -0.04789194\n",
      "         nan         nan         nan         nan         nan         nan\n",
      "         nan         nan         nan         nan -0.01219375         nan\n",
      "  0.07713241  0.00029394 -0.00542339 -0.05072216 -0.06499141 -0.02244862\n",
      " -0.0437308  -0.07820794 -0.0482964  -0.03688807  0.00903243  0.07956321\n",
      "  0.0242202   0.01395066  0.06746787         nan         nan         nan\n",
      "         nan         nan         nan         nan -0.07940581         nan\n",
      "         nan         nan         nan         nan         nan         nan\n",
      "         nan         nan         nan -0.09084548 -0.04801699 -0.08793835\n",
      " -0.08268863 -0.07546339 -0.08386662         nan         nan         nan\n",
      "         nan         nan         nan         nan         nan         nan\n",
      "  0.02618303 -0.04316494 -0.04243874  0.05920726  0.0541873   0.00895148\n",
      " -0.00441407 -0.01426008  0.07765146  0.0864492   0.02584489  0.01291497\n",
      " -0.02419857         nan         nan         nan         nan         nan\n",
      "         nan         nan         nan         nan         nan         nan\n",
      "         nan         nan         nan         nan         nan         nan\n",
      "         nan         nan         nan         nan         nan         nan\n",
      "         nan         nan         nan         nan         nan         nan\n",
      "         nan         nan         nan         nan         nan         nan\n",
      "         nan  0.12006009  0.05280158         nan  0.01760895 -0.0818562\n",
      " -0.02574098  0.20602648         nan         nan         nan         nan\n",
      "         nan         nan         nan         nan         nan         nan\n",
      "         nan         nan         nan         nan         nan         nan\n",
      "         nan         nan         nan         nan         nan         nan\n",
      "         nan         nan         nan         nan         nan -0.04414577\n",
      " -0.01297223         nan         nan         nan         nan         nan\n",
      "         nan         nan         nan         nan         nan         nan\n",
      "         nan         nan         nan         nan         nan         nan\n",
      "         nan         nan         nan         nan         nan         nan\n",
      "         nan         nan         nan         nan         nan         nan\n",
      "         nan         nan         nan         nan         nan         nan\n",
      "         nan         nan         nan         nan         nan         nan\n",
      "         nan         nan         nan         nan         nan         nan\n",
      "         nan         nan         nan         nan         nan         nan\n",
      "         nan         nan         nan         nan  0.06824195         nan\n",
      "         nan -0.01336444  0.03683164 -0.01698992 -0.01138737  0.03425718\n",
      "  0.07539998         nan         nan         nan         nan         nan\n",
      "         nan         nan         nan         nan         nan         nan\n",
      "         nan         nan         nan         nan         nan         nan\n",
      "         nan         nan         nan         nan         nan         nan\n",
      "         nan         nan         nan         nan         nan         nan\n",
      "         nan         nan         nan         nan         nan         nan\n",
      "         nan         nan         nan         nan         nan         nan\n",
      "         nan         nan         nan         nan         nan         nan\n",
      "         nan         nan         nan         nan         nan         nan\n",
      "         nan         nan         nan         nan         nan         nan\n",
      "         nan         nan         nan         nan -0.02926988         nan\n",
      "         nan         nan         nan -0.0206744 ]\n"
     ]
    },
    {
     "data": {
      "text/plain": [
       "[Text(1, 0, 'x1 → x2')]"
      ]
     },
     "execution_count": 20,
     "metadata": {},
     "output_type": "execute_result"
    },
    {
     "data": {
      "image/png": "[encoded data removed]",
      "text/plain": [
       "<Figure size 864x648 with 2 Axes>"
      ]
     },
     "metadata": {
      "needs_background": "light"
     },
     "output_type": "display_data"
    }
   ],
   "source": [
    "import scipy\n",
    "\n",
    "sampling_frequency = 1000\n",
    "time_extent = (0, 1)\n",
    "n_trials = 500\n",
    "time_halfbandwidth_product = 1\n",
    "\n",
    "n_time_samples = ((time_extent[1] - time_extent[0]) * sampling_frequency) + 1\n",
    "time = np.linspace(time_extent[0], time_extent[1], num=n_time_samples)\n",
    "\n",
    "signal1 = (\n",
    "    scipy.stats.norm.pdf(time, 0.43, 0.025) - scipy.stats.norm.pdf(time, 0.48, 0.025)\n",
    ") / 10\n",
    "signal1 = signal1[:, np.newaxis] * np.ones((len(time), n_trials))\n",
    "signal2 = (\n",
    "    scipy.stats.norm.pdf(time, 0.40, 0.025) - scipy.stats.norm.pdf(time, 0.45, 0.025)\n",
    ") / 10\n",
    "signal2 = signal2[:, np.newaxis] * np.ones((len(time), n_trials))\n",
    "\n",
    "\n",
    "signals = np.stack((signal1, signal2), axis=-1)\n",
    "\n",
    "fig, axis_handles = plt.subplots(1, 2, figsize=(12, 9), constrained_layout=True)\n",
    "axis_handles[0].plot(time, signal1, color=\"blue\")\n",
    "axis_handles[0].plot(time, signal2, color=\"green\")\n",
    "axis_handles[0].set_xlabel(\"Time\")\n",
    "\n",
    "multitaper = Multitaper(\n",
    "    signals,\n",
    "    sampling_frequency=sampling_frequency,\n",
    "    time_halfbandwidth_product=time_halfbandwidth_product,\n",
    "    start_time=time[0],\n",
    ")\n",
    "connectivity = Connectivity.from_multitaper(multitaper)\n",
    "\n",
    "\n",
    "delay, slope, r_value = connectivity.group_delay(\n",
    "    frequencies_of_interest=[2, 10],\n",
    "    frequency_resolution=multitaper.frequency_resolution,\n",
    ")\n",
    "\n",
    "print(delay[:,0,1])\n",
    "axis_handles[1].bar(\n",
    "    [1, 2], [delay[..., 0, 1].squeeze(), delay[..., 1, 0].squeeze()], color=[\"b\", \"g\"]\n",
    ")\n",
    "axis_handles[1].set_xlim((0.5, 2.5))\n",
    "axis_handles[1].axhline(0, color=\"black\")\n",
    "axis_handles[1].set_xticks([1])\n",
    "axis_handles[1].set_xticklabels([\"x1 → x2\"])"
   ]
  },
  {
   "cell_type": "code",
   "execution_count": 4,
   "metadata": {},
   "outputs": [
    {
     "name": "stdout",
     "output_type": "stream",
     "text": [
      "(319659, 1, 2)\n",
      "-0.003618696458123245 -0.00614190708842354\n",
      "(320035, 1, 2)\n",
      "0.024641339659773998 0.008100588472552028\n",
      "(321605, 1, 2)\n"
     ]
    },
    {
     "name": "stderr",
     "output_type": "stream",
     "text": [
      "C:\\Users\\LENOVO\\AppData\\Local\\Temp\\ipykernel_21028\\974920486.py:50: RuntimeWarning: Mean of empty slice\n",
      "  D2=np.nanmean(delay_beta[:,0,1])\n"
     ]
    },
    {
     "name": "stdout",
     "output_type": "stream",
     "text": [
      "-0.07899534036512244 nan\n",
      "(318738, 1, 2)\n",
      "-0.017525094320932372 -0.11926854120201387\n",
      "(331606, 1, 2)\n",
      "-0.02453461353355181 0.022171338538684172\n",
      "(628293, 1, 2)\n",
      "-0.020290589216047882 nan\n"
     ]
    },
    {
     "data": {
      "image/png": "[encoded data removed]",
      "text/plain": [
       "<Figure size 432x288 with 1 Axes>"
      ]
     },
     "metadata": {
      "needs_background": "light"
     },
     "output_type": "display_data"
    }
   ],
   "source": [
    "pathsHPC = [path for path in Path('D:/users/Desktop/sem7/internship/NEW/1/Rat_OS_Ephys_RGS14_Rat1_57986_SD2_OD_28-29_07_2018').resolve().glob(\"**/*HPC*.mat\")] # works (all full paths to HPC files)\n",
    "pathsPFC = [path for path in Path('D:/users/Desktop/sem7/internship/NEW/1/Rat_OS_Ephys_RGS14_Rat1_57986_SD2_OD_28-29_07_2018').resolve().glob(\"**/*PFC*.mat\")] # works (all full paths to PFC files)\n",
    "\n",
    "\n",
    "sampling_frequency = 1000\n",
    "time_halfbandwidth_product = 5\n",
    "n_trials = len(pathsHPC)\n",
    "\n",
    "theta=[]\n",
    "beta=[]\n",
    "\n",
    "for i in range(n_trials):\n",
    "    dataHPC = scipy.io.loadmat(pathsHPC[i])\n",
    "    dataPFC = scipy.io.loadmat(pathsPFC[i])\n",
    "   \n",
    "    current_dataHPC = dataHPC['HPC']\n",
    "    current_dataPFC = dataPFC['PFC']\n",
    "    n_time_samples = len(current_dataHPC)\n",
    "\n",
    "    time = np.arange(0, n_time_samples)/sampling_frequency\n",
    "    signal1 = np.zeros(n_time_samples)\n",
    "    signal2 = np.zeros(n_time_samples)\n",
    "    signal1 = current_dataHPC\n",
    "    signal2 = current_dataPFC\n",
    "\n",
    "    signals = np.stack((signal1, signal2), axis=-1)\n",
    "    \n",
    "    print(signals.shape)\n",
    "\n",
    "    m = Multitaper(\n",
    "    signals,\n",
    "    sampling_frequency=sampling_frequency,\n",
    "    time_halfbandwidth_product=time_halfbandwidth_product,\n",
    "    start_time=time[0],\n",
    "    time_window_duration=10,\n",
    "    time_window_step=1\n",
    "    )\n",
    "\n",
    "    c = Connectivity(fourier_coefficients=m.fft(), frequencies=m.frequencies, time=m.time)\n",
    "\n",
    "    delay_theta, slope, r_value= c.group_delay(\n",
    "    frequencies_of_interest=list(range(5,12)), frequency_resolution=m.frequency_resolution\n",
    "    )\n",
    "\n",
    "    delay_beta, slope, r_value= c.group_delay(\n",
    "    frequencies_of_interest=list(range(15,30)), frequency_resolution=m.frequency_resolution\n",
    "    )\n",
    "   \n",
    "    D1=np.nanmean(delay_theta[:,0,1])\n",
    "    D2=np.nanmean(delay_beta[:,0,1])\n",
    "    print(D1,D2)\n",
    "    theta.append(D1)\n",
    "    beta.append(D2)\n",
    "\n",
    "# Calculate the average\n",
    "theta_mean = np.nanmean(theta)\n",
    "beta_mean = np.nanmean(beta)\n",
    "\n",
    "\n",
    "# Calculate the standard error of mean\n",
    "t=pd.Series(theta)\n",
    "g=pd.Series(beta)\n",
    "theta_std = (np.nanstd(theta))/(np.sqrt(t.count()))\n",
    "beta_std = (np.nanstd(beta))/(np.sqrt(g.count()))\n",
    "\n",
    "\n",
    "# append mean and sem to main list\n",
    "THETA.append(theta_mean)\n",
    "BETA.append(beta_mean)\n",
    "THETA_SEM.append(theta_std)\n",
    "BETA_SEM.append(beta_std)\n",
    "\n",
    "# Create lists for the plot\n",
    "materials = ['Theta', 'Beta']\n",
    "x_pos = np.arange(len(materials))\n",
    "CTEs = [theta_mean, beta_mean]\n",
    "error = [theta_std, beta_std]\n",
    "\n",
    "# Build the plot\n",
    "fig, ax = plt.subplots()\n",
    "ax.bar(x_pos, CTEs, yerr=error, align='center', alpha=0.5, ecolor='black', capsize=10)\n",
    "ax.set_ylabel('Delay')\n",
    "ax.set_xticks(x_pos)\n",
    "ax.set_xticklabels(materials)\n",
    "ax.set_title('SD4_HC')\n",
    "ax.yaxis.grid(True)\n",
    "\n",
    "# Save the figure and show\n",
    "# plt.tight_layout()\n",
    "# plt.savefig('bar_plot_with_error_bars.png')\n",
    "plt.show()\n"
   ]
  },
  {
   "cell_type": "code",
   "execution_count": 5,
   "metadata": {},
   "outputs": [
    {
     "name": "stdout",
     "output_type": "stream",
     "text": [
      "(368777, 1, 2)\n",
      "-0.03261484617726465 -0.0014578079094299504\n",
      "(317987, 1, 2)\n",
      "-0.007776297456668797 -0.0007468392993269494\n",
      "(327032, 1, 2)\n",
      "0.0090516167100174 0.026038799642053224\n",
      "(332869, 1, 2)\n",
      "0.009086384691193092 0.020996170972590773\n",
      "(323004, 1, 2)\n",
      "0.015370156130402183 -0.007141514354956251\n",
      "(631433, 1, 2)\n",
      "-0.007001124403498693 -0.02917323826405386\n"
     ]
    },
    {
     "data": {
      "image/png": "[encoded data removed]",
      "text/plain": [
       "<Figure size 432x288 with 1 Axes>"
      ]
     },
     "metadata": {
      "needs_background": "light"
     },
     "output_type": "display_data"
    }
   ],
   "source": [
    "pathsHPC = [path for path in Path('D:/users/Desktop/sem7/internship/NEW/1/Rat_OS_Ephys_RGS14_Rat1_57986_SD3_OR_30-31_07_2018').resolve().glob(\"**/*HPC*.mat\")] # works (all full paths to HPC files)\n",
    "pathsPFC = [path for path in Path('D:/users/Desktop/sem7/internship/NEW/1/Rat_OS_Ephys_RGS14_Rat1_57986_SD3_OR_30-31_07_2018').resolve().glob(\"**/*PFC*.mat\")] # works (all full paths to PFC files)\n",
    "\n",
    "\n",
    "sampling_frequency = 1000\n",
    "time_halfbandwidth_product = 5\n",
    "n_trials = len(pathsHPC)\n",
    "\n",
    "theta=[]\n",
    "beta=[]\n",
    "\n",
    "for i in range(n_trials):\n",
    "    dataHPC = scipy.io.loadmat(pathsHPC[i])\n",
    "    dataPFC = scipy.io.loadmat(pathsPFC[i])\n",
    "   \n",
    "    current_dataHPC = dataHPC['HPC']\n",
    "    current_dataPFC = dataPFC['PFC']\n",
    "    n_time_samples = len(current_dataHPC)\n",
    "\n",
    "    time = np.arange(0, n_time_samples)/sampling_frequency\n",
    "    signal1 = np.zeros(n_time_samples)\n",
    "    signal2 = np.zeros(n_time_samples)\n",
    "    signal1 = current_dataHPC\n",
    "    signal2 = current_dataPFC\n",
    "\n",
    "    signals = np.stack((signal1, signal2), axis=-1)\n",
    "    \n",
    "    print(signals.shape)\n",
    "\n",
    "    m = Multitaper(\n",
    "    signals,\n",
    "    sampling_frequency=sampling_frequency,\n",
    "    time_halfbandwidth_product=time_halfbandwidth_product,\n",
    "    start_time=time[0],\n",
    "    time_window_duration=10,\n",
    "    time_window_step=1\n",
    "    )\n",
    "\n",
    "    c = Connectivity(fourier_coefficients=m.fft(), frequencies=m.frequencies, time=m.time)\n",
    "\n",
    "    delay_theta, slope, r_value= c.group_delay(\n",
    "    frequencies_of_interest=list(range(5,12)), frequency_resolution=m.frequency_resolution\n",
    "    )\n",
    "\n",
    "    delay_beta, slope, r_value= c.group_delay(\n",
    "    frequencies_of_interest=list(range(15,30)), frequency_resolution=m.frequency_resolution\n",
    "    )\n",
    "   \n",
    "    D1=np.nanmean(delay_theta[:,0,1])\n",
    "    D2=np.nanmean(delay_beta[:,0,1])\n",
    "    print(D1,D2)\n",
    "    theta.append(D1)\n",
    "    beta.append(D2)\n",
    "\n",
    "# Calculate the average\n",
    "theta_mean = np.nanmean(theta)\n",
    "beta_mean = np.nanmean(beta)\n",
    "\n",
    "\n",
    "# Calculate the standard error of mean\n",
    "t=pd.Series(theta)\n",
    "g=pd.Series(beta)\n",
    "theta_std = (np.nanstd(theta))/(np.sqrt(t.count()))\n",
    "beta_std = (np.nanstd(beta))/(np.sqrt(g.count()))\n",
    "\n",
    "# append mean and sem to main list\n",
    "THETA.append(theta_mean)\n",
    "BETA.append(beta_mean)\n",
    "THETA_SEM.append(theta_std)\n",
    "BETA_SEM.append(beta_std)\n",
    "\n",
    "\n",
    "# Create lists for the plot\n",
    "materials = ['Theta', 'Beta']\n",
    "x_pos = np.arange(len(materials))\n",
    "CTEs = [theta_mean, beta_mean]\n",
    "error = [theta_std, beta_std]\n",
    "\n",
    "# Build the plot\n",
    "fig, ax = plt.subplots()\n",
    "ax.bar(x_pos, CTEs, yerr=error, align='center', alpha=0.5, ecolor='black', capsize=10)\n",
    "ax.set_ylabel('Delay')\n",
    "ax.set_xticks(x_pos)\n",
    "ax.set_xticklabels(materials)\n",
    "ax.set_title('SD4_HC')\n",
    "ax.yaxis.grid(True)\n",
    "\n",
    "# Save the figure and show\n",
    "# plt.tight_layout()\n",
    "# plt.savefig('bar_plot_with_error_bars.png')\n",
    "plt.show()"
   ]
  },
  {
   "cell_type": "code",
   "execution_count": 6,
   "metadata": {},
   "outputs": [
    {
     "name": "stdout",
     "output_type": "stream",
     "text": [
      "(300544, 1, 2)\n",
      "-0.0012747335714325377 -0.03827025012360972\n",
      "(301364, 1, 2)\n",
      "-0.07491894363855259 0.003170564551672163\n",
      "(300203, 1, 2)\n",
      "0.0778071829970705 0.007529419922155622\n",
      "(391373, 1, 2)\n",
      "-0.06835400916975712 -0.07184895312732176\n",
      "(302524, 1, 2)\n",
      "nan -0.00767409565099895\n"
     ]
    },
    {
     "name": "stderr",
     "output_type": "stream",
     "text": [
      "C:\\Users\\LENOVO\\AppData\\Local\\Temp\\ipykernel_21028\\3483041658.py:49: RuntimeWarning: Mean of empty slice\n",
      "  D1=np.nanmean(delay_theta[:,0,1])\n"
     ]
    },
    {
     "data": {
      "image/png": "[encoded data removed]",
      "text/plain": [
       "<Figure size 432x288 with 1 Axes>"
      ]
     },
     "metadata": {
      "needs_background": "light"
     },
     "output_type": "display_data"
    }
   ],
   "source": [
    "pathsHPC = [path for path in Path('D:/users/Desktop/sem7/internship/NEW/1/Rat_OS_Ephys_RGS14_Rat1_57986_SD4_HC_01_08_2018').resolve().glob(\"**/*HPC*.mat\")] # works (all full paths to HPC files)\n",
    "pathsPFC = [path for path in Path('D:/users/Desktop/sem7/internship/NEW/1/Rat_OS_Ephys_RGS14_Rat1_57986_SD4_HC_01_08_2018').resolve().glob(\"**/*PFC*.mat\")] # works (all full paths to PFC files)\n",
    "\n",
    "\n",
    "sampling_frequency = 1000\n",
    "time_halfbandwidth_product = 5\n",
    "n_trials = len(pathsHPC)\n",
    "\n",
    "theta=[]\n",
    "beta=[]\n",
    "\n",
    "for i in range(n_trials):\n",
    "    dataHPC = scipy.io.loadmat(pathsHPC[i])\n",
    "    dataPFC = scipy.io.loadmat(pathsPFC[i])\n",
    "   \n",
    "    current_dataHPC = dataHPC['HPC']\n",
    "    current_dataPFC = dataPFC['PFC']\n",
    "    n_time_samples = len(current_dataHPC)\n",
    "\n",
    "    time = np.arange(0, n_time_samples)/sampling_frequency\n",
    "    signal1 = np.zeros(n_time_samples)\n",
    "    signal2 = np.zeros(n_time_samples)\n",
    "    signal1 = current_dataHPC\n",
    "    signal2 = current_dataPFC\n",
    "\n",
    "    signals = np.stack((signal1, signal2), axis=-1)\n",
    "    \n",
    "    print(signals.shape)\n",
    "\n",
    "    m = Multitaper(\n",
    "    signals,\n",
    "    sampling_frequency=sampling_frequency,\n",
    "    time_halfbandwidth_product=time_halfbandwidth_product,\n",
    "    start_time=time[0],\n",
    "    time_window_duration=10,\n",
    "    time_window_step=1\n",
    "    )\n",
    "\n",
    "    c = Connectivity(fourier_coefficients=m.fft(), frequencies=m.frequencies, time=m.time)\n",
    "\n",
    "    delay_theta, slope, r_value= c.group_delay(\n",
    "    frequencies_of_interest=list(range(5,12)), frequency_resolution=m.frequency_resolution\n",
    "    )\n",
    "\n",
    "    delay_beta, slope, r_value= c.group_delay(\n",
    "    frequencies_of_interest=list(range(15,30)), frequency_resolution=m.frequency_resolution\n",
    "    )\n",
    "   \n",
    "    D1=np.nanmean(delay_theta[:,0,1])\n",
    "    D2=np.nanmean(delay_beta[:,0,1])\n",
    "    print(D1,D2)\n",
    "    theta.append(D1)\n",
    "    beta.append(D2)\n",
    "\n",
    "# Calculate the average\n",
    "theta_mean = np.nanmean(theta)\n",
    "beta_mean = np.nanmean(beta)\n",
    "\n",
    "\n",
    "# Calculate the standard error of mean\n",
    "t=pd.Series(theta)\n",
    "g=pd.Series(beta)\n",
    "theta_std = (np.nanstd(theta))/(np.sqrt(t.count()))\n",
    "beta_std = (np.nanstd(beta))/(np.sqrt(g.count()))\n",
    "\n",
    "# append mean and sem to main list\n",
    "THETA.append(theta_mean)\n",
    "BETA.append(beta_mean)\n",
    "THETA_SEM.append(theta_std)\n",
    "BETA_SEM.append(beta_std)\n",
    "\n",
    "\n",
    "# Create lists for the plot\n",
    "materials = ['Theta', 'Beta']\n",
    "x_pos = np.arange(len(materials))\n",
    "CTEs = [theta_mean, beta_mean]\n",
    "error = [theta_std, beta_std]\n",
    "\n",
    "# Build the plot\n",
    "fig, ax = plt.subplots()\n",
    "ax.bar(x_pos, CTEs, yerr=error, align='center', alpha=0.5, ecolor='black', capsize=10)\n",
    "ax.set_ylabel('Delay')\n",
    "ax.set_xticks(x_pos)\n",
    "ax.set_xticklabels(materials)\n",
    "ax.set_title('SD4_HC')\n",
    "ax.yaxis.grid(True)\n",
    "\n",
    "# Save the figure and show\n",
    "# plt.tight_layout()\n",
    "# plt.savefig('bar_plot_with_error_bars.png')\n",
    "plt.show()"
   ]
  },
  {
   "cell_type": "code",
   "execution_count": 7,
   "metadata": {},
   "outputs": [
    {
     "data": {
      "image/png": "[encoded data removed]",
      "text/plain": [
       "<Figure size 432x288 with 1 Axes>"
      ]
     },
     "metadata": {
      "needs_background": "light"
     },
     "output_type": "display_data"
    }
   ],
   "source": [
    "# Create lists for the plot\n",
    "materials = ['CON', 'OD', 'OR', 'HC']\n",
    "x_pos = np.arange(len(materials))\n",
    "CTEs = THETA\n",
    "error = THETA_SEM\n",
    "\n",
    "\n",
    "# Build the plot\n",
    "fig, ax = plt.subplots()\n",
    "ax.bar(x_pos, CTEs,  yerr=error, align='center', ecolor='black', capsize=10)\n",
    "ax.set_ylabel('Delay')\n",
    "ax.set_xticks(x_pos)\n",
    "ax.set_xticklabels(materials)\n",
    "ax.set_title('Theta')\n",
    "ax.yaxis.grid(True)\n",
    "\n",
    "# Save the figure and show\n",
    "plt.tight_layout()\n",
    "plt.savefig('theta_four_conditions_together.png')\n",
    "plt.show()"
   ]
  },
  {
   "cell_type": "code",
   "execution_count": 8,
   "metadata": {},
   "outputs": [
    {
     "data": {
      "image/png": "[encoded data removed]",
      "text/plain": [
       "<Figure size 432x288 with 1 Axes>"
      ]
     },
     "metadata": {
      "needs_background": "light"
     },
     "output_type": "display_data"
    }
   ],
   "source": [
    "# Create lists for the plot\n",
    "materials = ['CON', 'OD', 'OR', 'HC']\n",
    "x_pos = np.arange(len(materials))\n",
    "CTEs = BETA\n",
    "error = BETA_SEM\n",
    "\n",
    "\n",
    "# Build the plot\n",
    "fig, ax = plt.subplots()\n",
    "ax.bar(x_pos, CTEs,  yerr=error, align='center', ecolor='black', capsize=10)\n",
    "ax.set_ylabel('Delay')\n",
    "ax.set_xticks(x_pos)\n",
    "ax.set_xticklabels(materials)\n",
    "ax.set_title('Beta')\n",
    "ax.yaxis.grid(True)\n",
    "\n",
    "# Save the figure and show\n",
    "plt.tight_layout()\n",
    "plt.savefig('beta_four_conditions_together.png')\n",
    "plt.show()"
   ]
  },
  {
   "cell_type": "code",
   "execution_count": 9,
   "metadata": {},
   "outputs": [
    {
     "data": {
      "image/png": "[encoded data removed]",
      "text/plain": [
       "<Figure size 432x288 with 1 Axes>"
      ]
     },
     "metadata": {
      "needs_background": "light"
     },
     "output_type": "display_data"
    }
   ],
   "source": [
    "N = len(BETA)\n",
    "THREE = BETA\n",
    "THREE_SEM = BETA_SEM\n",
    "\n",
    "ind = np.arange(N)  # the x locations for the groups\n",
    "width = 0.35       # the width of the bars\n",
    "\n",
    "# fig = plt.figure()\n",
    "# ax = fig.add_subplot(111)\n",
    "\n",
    "fig, ax = plt.subplots()\n",
    "ax.bar(ind, THREE, width, yerr=THREE_SEM, align='center', ecolor='black', capsize=10)\n",
    "\n",
    "ONE = [BETA[-1],BETA[-1],BETA[-1],BETA[-1]]\n",
    "ONE_SEM = [BETA_SEM[-1],BETA_SEM[-1],BETA_SEM[-1],BETA_SEM[-1]]\n",
    "\n",
    "ax.bar(ind+width, ONE, width, yerr=ONE_SEM, align='center', ecolor='black', capsize=10)\n",
    "\n",
    "# add some\n",
    "ax.set_ylabel('Delay')\n",
    "ax.set_title('BETA')\n",
    "ax.set_xticks(ind + width / 2)\n",
    "ax.set_xticklabels( ('CON/HC', 'OD/HC', 'OR/HC', 'HC/HC') )\n",
    "ax.yaxis.grid(True)\n",
    "\n",
    "plt.tight_layout()\n",
    "plt.savefig('beta_all_conditions_vs_hc.png')\n",
    "plt.show()\n",
    "plt.show()"
   ]
  },
  {
   "cell_type": "code",
   "execution_count": 10,
   "metadata": {},
   "outputs": [
    {
     "data": {
      "image/png": "[encoded data removed]",
      "text/plain": [
       "<Figure size 432x288 with 1 Axes>"
      ]
     },
     "metadata": {
      "needs_background": "light"
     },
     "output_type": "display_data"
    }
   ],
   "source": [
    "N = len(THETA)\n",
    "THREE = THETA\n",
    "THREE_SEM = THETA_SEM\n",
    "\n",
    "ind = np.arange(N)  # the x locations for the groups\n",
    "width = 0.35       # the width of the bars\n",
    "\n",
    "\n",
    "fig, ax = plt.subplots()\n",
    "ax.bar(ind, THREE, width, yerr=THREE_SEM, align='center', ecolor='black', capsize=10)\n",
    "\n",
    "ONE = [THETA[-1],THETA[-1],THETA[-1],THETA[-1]]\n",
    "ONE_SEM = [THETA_SEM[-1],THETA_SEM[-1],THETA_SEM[-1],THETA_SEM[-1]]\n",
    "\n",
    "ax.bar(ind+width, ONE, width, yerr=ONE_SEM, align='center', ecolor='black', capsize=10)\n",
    "\n",
    "# add some\n",
    "ax.set_ylabel('Delay')\n",
    "ax.set_title('THETA')\n",
    "ax.set_xticks(ind + width / 2)\n",
    "ax.set_xticklabels( ('CON/HC', 'OD/HC', 'OR/HC', 'HC/HC') )\n",
    "ax.yaxis.grid(True)\n",
    "\n",
    "plt.tight_layout()\n",
    "plt.savefig('theta_all_conditions_vs_hc.png')\n",
    "plt.show()\n"
   ]
  },
  {
   "cell_type": "code",
   "execution_count": 11,
   "metadata": {},
   "outputs": [
    {
     "name": "stdout",
     "output_type": "stream",
     "text": [
      "-0.02141866288562053\n",
      "0.013354736836010798\n"
     ]
    }
   ],
   "source": [
    "print(BETA[-1])\n",
    "print(BETA_SEM[-1])"
   ]
  },
  {
   "cell_type": "code",
   "execution_count": 12,
   "metadata": {},
   "outputs": [
    {
     "data": {
      "image/png": "[encoded data removed]",
      "text/plain": [
       "<Figure size 432x288 with 1 Axes>"
      ]
     },
     "metadata": {
      "needs_background": "light"
     },
     "output_type": "display_data"
    }
   ],
   "source": [
    "HPC=np.zeros(300000)\n",
    "PFC=np.zeros(300000)\n",
    "\n",
    "dataHPC = scipy.io.loadmat(pathsHPC[0])\n",
    "dataPFC = scipy.io.loadmat(pathsPFC[0])\n",
    "\n",
    "current_dataHPC = dataHPC['HPC']\n",
    "current_dataPFC = dataPFC['PFC']\n",
    "current_dataHPC=current_dataHPC[0:300000]\n",
    "current_dataPFC=current_dataPFC[0:300000]\n",
    "\n",
    "plt.plot(current_dataHPC, label = \"HPC\")\n",
    "plt.plot(current_dataPFC, label = \"PFC\")\n",
    "plt.legend()\n",
    "plt.show()"
   ]
  },
  {
   "cell_type": "code",
   "execution_count": 13,
   "metadata": {},
   "outputs": [
    {
     "ename": "IndexError",
     "evalue": "list index out of range",
     "output_type": "error",
     "traceback": [
      "\u001b[1;31m---------------------------------------------------------------------------\u001b[0m",
      "\u001b[1;31mIndexError\u001b[0m                                Traceback (most recent call last)",
      "\u001b[1;32md:\\users\\Desktop\\sem7\\internship\\lag.ipynb Cell 13\u001b[0m in \u001b[0;36m<cell line: 4>\u001b[1;34m()\u001b[0m\n\u001b[0;32m      <a href='vscode-notebook-cell:/d%3A/users/Desktop/sem7/internship/lag.ipynb#X15sZmlsZQ%3D%3D?line=0'>1</a>\u001b[0m HPC\u001b[39m=\u001b[39mnp\u001b[39m.\u001b[39mzeros(\u001b[39m300000\u001b[39m)\n\u001b[0;32m      <a href='vscode-notebook-cell:/d%3A/users/Desktop/sem7/internship/lag.ipynb#X15sZmlsZQ%3D%3D?line=1'>2</a>\u001b[0m PFC\u001b[39m=\u001b[39mnp\u001b[39m.\u001b[39mzeros(\u001b[39m300000\u001b[39m)\n\u001b[1;32m----> <a href='vscode-notebook-cell:/d%3A/users/Desktop/sem7/internship/lag.ipynb#X15sZmlsZQ%3D%3D?line=3'>4</a>\u001b[0m dataHPC \u001b[39m=\u001b[39m scipy\u001b[39m.\u001b[39mio\u001b[39m.\u001b[39mloadmat(pathsHPC[\u001b[39m6\u001b[39;49m])\n\u001b[0;32m      <a href='vscode-notebook-cell:/d%3A/users/Desktop/sem7/internship/lag.ipynb#X15sZmlsZQ%3D%3D?line=4'>5</a>\u001b[0m dataPFC \u001b[39m=\u001b[39m scipy\u001b[39m.\u001b[39mio\u001b[39m.\u001b[39mloadmat(pathsPFC[\u001b[39m6\u001b[39m])\n\u001b[0;32m      <a href='vscode-notebook-cell:/d%3A/users/Desktop/sem7/internship/lag.ipynb#X15sZmlsZQ%3D%3D?line=6'>7</a>\u001b[0m current_dataHPC \u001b[39m=\u001b[39m dataHPC[\u001b[39m'\u001b[39m\u001b[39mHPC\u001b[39m\u001b[39m'\u001b[39m]\n",
      "\u001b[1;31mIndexError\u001b[0m: list index out of range"
     ]
    }
   ],
   "source": [
    "HPC=np.zeros(300000)\n",
    "PFC=np.zeros(300000)\n",
    "\n",
    "dataHPC = scipy.io.loadmat(pathsHPC[6])\n",
    "dataPFC = scipy.io.loadmat(pathsPFC[6])\n",
    "\n",
    "current_dataHPC = dataHPC['HPC']\n",
    "current_dataPFC = dataPFC['PFC']\n",
    "current_dataHPC=current_dataHPC[0:300000]\n",
    "current_dataPFC=current_dataPFC[0:300000]\n",
    "\n",
    "plt.plot(current_dataHPC, label = \"HPC\")\n",
    "plt.plot(current_dataPFC, label = \"PFC\")\n",
    "plt.legend()\n",
    "plt.show()"
   ]
  },
  {
   "cell_type": "code",
   "execution_count": null,
   "metadata": {},
   "outputs": [],
   "source": []
  }
 ],
 "metadata": {
  "kernelspec": {
   "display_name": "base",
   "language": "python",
   "name": "python3"
  },
  "language_info": {
   "codemirror_mode": {
    "name": "ipython",
    "version": 3
   },
   "file_extension": ".py",
   "mimetype": "text/x-python",
   "name": "python",
   "nbconvert_exporter": "python",
   "pygments_lexer": "ipython3",
   "version": "3.9.12"
  },
  "orig_nbformat": 4,
  "vscode": {
   "interpreter": {
    "hash": "7106a2dd42f767f596383dbbdc683a7b6315aa8f09b4aaa716d55419ef198934"
   }
  }
 },
 "nbformat": 4,
 "nbformat_minor": 2
}
